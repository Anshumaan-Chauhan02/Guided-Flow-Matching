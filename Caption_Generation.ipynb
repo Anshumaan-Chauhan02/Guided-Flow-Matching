{
 "cells": [
  {
   "cell_type": "markdown",
   "id": "q1DHxOrPhe97",
   "metadata": {
    "id": "q1DHxOrPhe97"
   },
   "source": [
    "### Importing libraries"
   ]
  },
  {
   "cell_type": "code",
   "execution_count": null,
   "id": "29cd2977",
   "metadata": {
    "id": "29cd2977"
   },
   "outputs": [],
   "source": [
    "import torch\n",
    "import torchvision\n",
    "import torchvision.transforms as transforms\n",
    "from torch.utils.data import Dataset, DataLoader\n",
    "import requests\n",
    "from PIL import Image\n",
    "from transformers import BlipProcessor, Blip2ForConditionalGeneration\n",
    "import matplotlib.pyplot as plt\n",
    "import numpy as np\n",
    "import pickle"
   ]
  },
  {
   "cell_type": "markdown",
   "id": "TYEPS72khhoy",
   "metadata": {
    "id": "TYEPS72khhoy"
   },
   "source": [
    "### Helper Functions"
   ]
  },
  {
   "cell_type": "code",
   "execution_count": null,
   "id": "OwSU0CjHfFFM",
   "metadata": {
    "id": "OwSU0CjHfFFM"
   },
   "outputs": [],
   "source": [
    "def imshow(img):\n",
    "    img = img\n",
    "    npimg = img.numpy()\n",
    "    plt.imshow(np.transpose(npimg, (1, 2, 0)))\n",
    "    plt.show()"
   ]
  },
  {
   "cell_type": "markdown",
   "id": "HebRUuRqhj4c",
   "metadata": {
    "id": "HebRUuRqhj4c"
   },
   "source": [
    "### Loading the Caption Generation Model"
   ]
  },
  {
   "cell_type": "code",
   "execution_count": null,
   "id": "f5787afd",
   "metadata": {
    "id": "f5787afd"
   },
   "outputs": [],
   "source": [
    "def create_processor_and_model():\n",
    "  processor = BlipProcessor.from_pretrained(\"Salesforce/blip2-flan-t5-xl\")\n",
    "  model = Blip2ForConditionalGeneration.from_pretrained(\"Salesforce/blip2-flan-t5-xl\", torch_dtype=torch.float16)\n",
    "\n",
    "  device = \"cuda\" if torch.cuda.is_available() else \"cpu\"\n",
    "  model.to(device)\n",
    "  return processor, model"
   ]
  },
  {
   "cell_type": "markdown",
   "id": "Tfi55vz1hoI-",
   "metadata": {
    "id": "Tfi55vz1hoI-"
   },
   "source": [
    "### Loading the Train and Test CIFAR Dataset"
   ]
  },
  {
   "cell_type": "code",
   "execution_count": null,
   "id": "gR0hWfyjWqXO",
   "metadata": {
    "id": "gR0hWfyjWqXO"
   },
   "outputs": [],
   "source": [
    "def get_dataset_and_loader():\n",
    "  transform = transforms.Compose(\n",
    "    [transforms.ToTensor()])\n",
    "\n",
    "  batch_size = 4\n",
    "\n",
    "  trainset = torchvision.datasets.CIFAR10(root='./data', train=True,\n",
    "                                        download=True, transform=transform)\n",
    "\n",
    "  trainloader = torch.utils.data.DataLoader(trainset, batch_size=batch_size,\n",
    "                                            shuffle=False, num_workers=2)\n",
    "\n",
    "  testset = torchvision.datasets.CIFAR10(root='./data', train=False,\n",
    "                                        download=True, transform=transform)\n",
    "  testloader = torch.utils.data.DataLoader(testset, batch_size=batch_size,\n",
    "                                          shuffle=False, num_workers=2)\n",
    "  classes = ('plane', 'car', 'bird', 'cat',\n",
    "           'deer', 'dog', 'frog', 'horse', 'ship', 'truck')\n",
    "  return trainset, trainloader, testset, testloader"
   ]
  },
  {
   "cell_type": "markdown",
   "id": "uHcpvPFbhtI1",
   "metadata": {
    "id": "uHcpvPFbhtI1"
   },
   "source": [
    "### Custom Dataset for the Images with their Captions"
   ]
  },
  {
   "cell_type": "code",
   "execution_count": null,
   "id": "b607d085",
   "metadata": {
    "id": "b607d085"
   },
   "outputs": [],
   "source": [
    "class CIFAR10WithCaptions(Dataset):\n",
    "    def __init__(self, cifar_dataset, captions):\n",
    "        self.cifar_dataset = cifar_dataset\n",
    "        self.captions = captions\n",
    "\n",
    "\n",
    "    def __len__(self):\n",
    "        return len(self.cifar_dataset)\n",
    "\n",
    "    def __getitem__(self, idx):\n",
    "        image, label = self.cifar_dataset[idx]\n",
    "        caption = self.captions[idx]\n",
    "        return image, label, caption"
   ]
  },
  {
   "cell_type": "markdown",
   "id": "47ddebff",
   "metadata": {
    "id": "47ddebff"
   },
   "source": [
    "### Generating captions and creating a new pickle file for the dataset"
   ]
  },
  {
   "cell_type": "code",
   "execution_count": null,
   "id": "6MiitSnRgRFJ",
   "metadata": {
    "id": "6MiitSnRgRFJ"
   },
   "outputs": [],
   "source": [
    "def generate_caption_dataset(dataset, dataset_loader, processor, model):\n",
    "  captions = []\n",
    "  for images, labels in dataset_loader:\n",
    "    for image in images:\n",
    "         transform = transforms.ToPILImage()\n",
    "         PIL_image = transform(image)\n",
    "\n",
    "         question = \"Describe everything in this image\"\n",
    "         inputs = processor(PIL_image, question, return_tensors=\"pt\").to(\"cuda\").to(\"cuda\", torch.float16)\n",
    "\n",
    "         out = model.generate(**inputs)\n",
    "         captions.append(processor.decode(out[0], skip_special_tokens=True))\n",
    "  return CIFAR10WithCaptions(dataset, captions)"
   ]
  },
  {
   "cell_type": "code",
   "execution_count": null,
   "id": "ae91d6c6",
   "metadata": {},
   "outputs": [],
   "source": [
    "processor, model = create_processor_and_model()\n",
    "trainset, trainloader, testset, testloader = get_dataset_and_loader()\n",
    "cifar10_train_with_captions = generate_caption_dataset(trainset, trainloader, processor, model)\n",
    "cifar10_test_with_captions = generate_caption_dataset(testset, testloader, processor, model)\n",
    "with open('CAPTIONED_CIFAR_TRAIN.pkl', 'wb') as file:\n",
    "    pickle.dump(cifar10_train_with_captions, file)\n",
    "with open('CAPTIONED_CIFAR_TEST.pkl', 'wb') as file:\n",
    "    pickle.dump(cifar10_test_with_captions, file)"
   ]
  }
 ],
 "metadata": {
  "accelerator": "GPU",
  "colab": {
   "gpuType": "T4",
   "machine_shape": "hm",
   "provenance": []
  },
  "kernelspec": {
   "display_name": "Python 3 (ipykernel)",
   "language": "python",
   "name": "python3"
  },
  "language_info": {
   "codemirror_mode": {
    "name": "ipython",
    "version": 3
   },
   "file_extension": ".py",
   "mimetype": "text/x-python",
   "name": "python",
   "nbconvert_exporter": "python",
   "pygments_lexer": "ipython3",
   "version": "3.11.4"
  }
 },
 "nbformat": 4,
 "nbformat_minor": 5
}
