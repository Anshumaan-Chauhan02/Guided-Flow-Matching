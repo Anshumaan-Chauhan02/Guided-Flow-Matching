{
 "cells": [
  {
   "cell_type": "code",
   "execution_count": null,
   "id": "e2346427",
   "metadata": {},
   "outputs": [],
   "source": [
    "def cross_val(lr_list, min_delta, patience, epochs, flow_train_dataset, flow_val_dataset, batch_size, reshape_text, conditional_gen=False, epoch_print, infer_num, epoch_save, final_infer_num):\n",
    "  for i in range(len(lr_list)):\n",
    "    print(f'Learning Rate: {lr_list[i]}')\n",
    "    loss_vals, model = train_one_epoch(min_delta, patience, epochs, flow_train_dataset, lr_list[i], batch_size, reshape_text, convnet= True, conditional_gen, epoch_print, infer_num, epoch_save, final_infer_num)\n",
    "    fid = FrechetInceptionDistance(normalize=True)\n",
    "    imgs = []\n",
    "    captions = []\n",
    "    real_imgs = []\n",
    "    if not os.path.exists(\"/content/drive/MyDrive/CS 682/CS682 Project/eval_models/conditional_unet/\"):\n",
    "        os.makedirs(\"/content/drive/MyDrive/CS 682/CS682 Project/eval_models/conditional_unet/\")\n",
    "    if not os.path.exists(\"/content/drive/MyDrive/CS 682/CS682 Project/eval_models/unconditional_unet/\"):\n",
    "        os.makedirs(\"/content/drive/MyDrive/CS 682/CS682 Project/eval_models/unconditional_unet/\")\n",
    "    print(\"Started Evaluation\")\n",
    "    for j in range(len(flow_val_dataset)):\n",
    "      if conditional_gen:\n",
    "        x_1, label, caption, x_0 = flow_val_dataset[j]\n",
    "        captions.append(caption)\n",
    "        real_imgs.append(torch.FloatTensor(x_1))\n",
    "        img = inference(model, caption, reshape_text, True)\n",
    "        img = (img - torch.min(img))/(torch.max(img) - torch.min(img))\n",
    "      else:\n",
    "        x_0, x_1 = flow_val_dataset[j]\n",
    "        real_imgs.append(x_1)\n",
    "        img = inference(model)\n",
    "      imgs.append(img.cpu())\n",
    "    print(\"Converting to Torch\")\n",
    "    real_imgs = torch.from_numpy(np.stack(real_imgs, axis=0).reshape(len(real_imgs),3,32,32))\n",
    "    imgs = torch.from_numpy(np.stack(imgs, axis=0).reshape(len(imgs),3,32,32))\n",
    "    fid.update(real_imgs, real=True)\n",
    "    fid.update(imgs, real=False)\n",
    "    print(\"Started computing FID\")\n",
    "    print(f\"FID: {float(fid.compute())}\")\n",
    "    if conditional_gen:\n",
    "      clip_score_fn = partial(clip_score, model_name_or_path=\"openai/clip-vit-base-patch16\")\n",
    "      clip_score_val = clip_score_fn(imgs, captions).detach()\n",
    "      clip_score_val = round(float(clip_score_val), 4)\n",
    "      print(f'CLIP Score Value: {clip_score_val}')\n",
    "      torch.save(model, f'/content/drive/MyDrive/CS 682/CS682 Project/eval_models/conditional_unet/unet_{i}.pth')\n",
    "    else:\n",
    "      torch.save(model, f'/content/drive/MyDrive/CS 682/CS682 Project/eval_models/unconditional_unet/unet_{i}.pth')\n",
    "\n",
    "    plot_loss(loss_vals)\n",
    "\n",
    "    print('----------------------------------------------------')"
   ]
  }
 ],
 "metadata": {
  "kernelspec": {
   "display_name": "Python 3 (ipykernel)",
   "language": "python",
   "name": "python3"
  },
  "language_info": {
   "codemirror_mode": {
    "name": "ipython",
    "version": 3
   },
   "file_extension": ".py",
   "mimetype": "text/x-python",
   "name": "python",
   "nbconvert_exporter": "python",
   "pygments_lexer": "ipython3",
   "version": "3.11.4"
  }
 },
 "nbformat": 4,
 "nbformat_minor": 5
}
